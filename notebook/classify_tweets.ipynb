{
 "cells": [
  {
   "cell_type": "code",
   "execution_count": null,
   "metadata": {},
   "outputs": [],
   "source": [
    "import nltk\n",
    "import re\n",
    "from nltk.tokenize import word_tokenize\n",
    "from nltk.corpus import stopwords\n",
    "\n",
    "# Define the classes and their associated words\n",
    "classes = {\n",
    "    'happy': ['joyful', 'cheerful', 'delighted', 'elated', 'glad', 'overjoyed', 'thrilled', 'blissful', 'content', 'satisfied', 'grateful'],\n",
    "    'angry': ['furious', 'mad', 'irate', 'exasperated', 'irritated', 'annoyed', 'rage', 'outrage', 'hostile', 'bitter', 'resentful'],\n",
    "    'sad': ['depressed', 'unhappy', 'disappointed', 'downcast', 'despondent', 'miserable', 'gloomy', 'sorrowful', 'melancholy', 'heartbroken'],\n",
    "    'fear': ['afraid', 'frightened', 'terrified', 'scared', 'anxious', 'nervous', 'panicked', 'petrified', 'apprehensive', 'uneasy'],\n",
    "    'excited': ['eager', 'enthusiastic', 'animated', 'thrilled', 'energetic', 'passionate', 'inspired', 'excitable', 'stimulated', 'raring to go']\n",
    "}\n",
    "\n",
    "def clean_tweet(tweet):\n",
    "    # Convert to lowercase\n",
    "    tweet = tweet.lower()\n",
    "    # Remove special characters, numbers, and punctuations\n",
    "    tweet = re.sub(r'[^a-zA-Z\\s]', '', tweet)\n",
    "    # Tokenize the tweet\n",
    "    tokens = word_tokenize(tweet)\n",
    "    # Remove stop words\n",
    "    stop_words = set(stopwords.words(\"english\"))\n",
    "    tokens = [word for word in tokens if word not in stop_words]\n",
    "    # Join the tokens back into a string\n",
    "    tweet = ' '.join(tokens)\n",
    "    return tweet\n",
    "\n",
    "def assign_class(tweet):\n",
    "    cleaned_tweet = clean_tweet(tweet)\n",
    "    # Check the cleaned tweet against the associated words\n",
    "    for class_name, words in classes.items():\n",
    "        for word in words:\n",
    "            if word in cleaned_tweet.split():\n",
    "                return class_name\n",
    "    return 'None'\n",
    "\n",
    "# Example usage\n",
    "tweets = ['I am feeling very joyful today',\n",
    "          'I am so angry with my boss',\n",
    "          'I am feeling downcast today',\n",
    "          'I am afraid of the dark',\n",
    "          'I am thrilled about going on vacation']\n",
    "\n",
    "for tweet in tweets:\n",
    "    class_name = assign_class(tweet)\n",
    "    print(f'Tweet: {tweet}\\nClass: {class_name}\\n')\n"
   ]
  }
 ],
 "metadata": {
  "language_info": {
   "name": "python"
  },
  "orig_nbformat": 4
 },
 "nbformat": 4,
 "nbformat_minor": 2
}
